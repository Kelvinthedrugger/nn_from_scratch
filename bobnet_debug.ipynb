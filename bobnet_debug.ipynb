{
 "cells": [
  {
   "cell_type": "code",
   "execution_count": 1,
   "source": [
    "print(\"bobnet debug\")"
   ],
   "outputs": [
    {
     "output_type": "stream",
     "name": "stdout",
     "text": [
      "bobnet debug\n"
     ]
    }
   ],
   "metadata": {}
  },
  {
   "cell_type": "code",
   "execution_count": 2,
   "source": [
    "from fetch_it import mnist\r\n",
    "\r\n",
    "x_train,y_train, x_test,y_test = mnist()"
   ],
   "outputs": [],
   "metadata": {}
  },
  {
   "cell_type": "code",
   "execution_count": 3,
   "source": [
    "import numpy as np\r\n",
    "from frame import layer_init"
   ],
   "outputs": [],
   "metadata": {}
  },
  {
   "cell_type": "code",
   "execution_count": 4,
   "source": [
    "def forward_backward(x,y,l1,l2):\r\n",
    "    \"\"\"forward pass is good\"\"\"\r\n",
    "    f_l1 = x@l1 # (1,128)\r\n",
    "    f_re = np.maximum(f_l1,0)\r\n",
    "    f_l2 = f_re@l2 # (1,10)\r\n",
    "\r\n",
    "    # backward\r\n",
    "    out = np.zeros((len(y),10),np.float32)\r\n",
    "    out[range(out.shape[0]),y] = 1\r\n",
    "\r\n",
    "    # from pytorch: loss(x,class) = -x[class] + log(exp(x[j]).sum(), j belongs to class)\r\n",
    "    los = (-f_l2 + np.log(np.exp(f_l2).sum(axis=1)).reshape((-1,1)))\r\n",
    "    loss = (out*los).mean(axis=1)\r\n",
    "\r\n",
    "    d_out = -out/len(y)\r\n",
    "    grads = d_out - np.exp(-los)*d_out.sum(axis=1).reshape((-1,1))\r\n",
    "\r\n",
    "    d_l2 = f_re.T.dot(grads)\r\n",
    "\r\n",
    "    #dx_relu = grads.dot(l2.T)\r\n",
    "\r\n",
    "    dx_l1 = (f_re > 0).astype(np.float32) * (grads.dot(l2.T))\r\n",
    "\r\n",
    "    d_l1 = x.T.dot(dx_l1)\r\n",
    "\r\n",
    "    return loss, d_l1, d_l2 "
   ],
   "outputs": [],
   "metadata": {}
  },
  {
   "cell_type": "code",
   "execution_count": 5,
   "source": [
    "from tqdm import tqdm\r\n",
    "import time\r\n",
    "\r\n",
    "np.random.seed(1337)\r\n",
    "\r\n",
    "l1 = layer_init(784,128)\r\n",
    "l2 = layer_init(128,10)\r\n",
    "\r\n",
    "losses = []\r\n",
    "learning_rate = 1e-3\r\n",
    "batch_size = 32\r\n",
    "\r\n",
    "start = time.time()\r\n",
    "for _ in tqdm(range(1000)):\r\n",
    "    samp = np.random.randint(0,x_train.shape[0],size=(batch_size))\r\n",
    "    X = x_train[samp].reshape((-1,28**2))\r\n",
    "    Y = y_train[samp]\r\n",
    "    loss, d_l1, d_l2 = forward_backward(X,Y,l1,l2)\r\n",
    "    l1 -= learning_rate * d_l1\r\n",
    "    l2 -= learning_rate * d_l2\r\n",
    "\r\n",
    "    losses.append(loss.mean())\r\n",
    "end = time.time()\r\n",
    "print(\"time consumption: %.3f\"%(end-start),end=\"\")"
   ],
   "outputs": [
    {
     "output_type": "stream",
     "name": "stderr",
     "text": [
      "100%|██████████| 1000/1000 [00:00<00:00, 1798.57it/s]"
     ]
    },
    {
     "output_type": "stream",
     "name": "stdout",
     "text": [
      "time consumption: 0.566"
     ]
    },
    {
     "output_type": "stream",
     "name": "stderr",
     "text": [
      "\n"
     ]
    }
   ],
   "metadata": {}
  },
  {
   "cell_type": "code",
   "execution_count": 6,
   "source": [
    "import matplotlib.pyplot as plt\r\n",
    "plt.plot(losses)\r\n",
    "losses[-1]"
   ],
   "outputs": [
    {
     "output_type": "execute_result",
     "data": {
      "text/plain": [
       "0.009727458"
      ]
     },
     "metadata": {},
     "execution_count": 6
    },
    {
     "output_type": "display_data",
     "data": {
      "image/png": "[encoded data removed]",
      "text/plain": [
       "<Figure size 432x288 with 1 Axes>"
      ]
     },
     "metadata": {
      "needs_background": "light"
     }
    }
   ],
   "metadata": {}
  },
  {
   "cell_type": "code",
   "execution_count": 7,
   "source": [
    "cat = np.maximum((x_test[0].reshape((-1,28**2)) @ l1),0) @ l2\r\n",
    "(cat.argmax() == y_test[0]).astype(np.float32)"
   ],
   "outputs": [
    {
     "output_type": "execute_result",
     "data": {
      "text/plain": [
       "1.0"
      ]
     },
     "metadata": {},
     "execution_count": 7
    }
   ],
   "metadata": {}
  },
  {
   "cell_type": "code",
   "execution_count": 8,
   "source": [
    "def evalu(l1,l2):\r\n",
    "    accuracies = []\r\n",
    "    for _ in tqdm(range(1000)):\r\n",
    "        samp = np.random.randint(0,x_test.shape[0])\r\n",
    "        X = x_test[samp]\r\n",
    "        Y = y_test[samp]\r\n",
    "        cat = np.maximum((X.reshape((-1,28**2)) @ l1),0) @ l2\r\n",
    "        accu = (cat.argmax() == Y).astype(np.float32).sum()\r\n",
    "        accuracies.append(accu)\r\n",
    "\r\n",
    "    print(\"accuracies: %.2f\"% (sum(accuracies)/len(accuracies)))\r\n",
    "\r\n",
    "evalu(l1,l2)"
   ],
   "outputs": [
    {
     "output_type": "stream",
     "name": "stderr",
     "text": [
      "100%|██████████| 1000/1000 [00:00<00:00, 16666.48it/s]"
     ]
    },
    {
     "output_type": "stream",
     "name": "stdout",
     "text": [
      "accuracies: 0.95\n"
     ]
    },
    {
     "output_type": "stream",
     "name": "stderr",
     "text": [
      "\n"
     ]
    }
   ],
   "metadata": {}
  },
  {
   "cell_type": "code",
   "execution_count": 9,
   "source": [
    "\"\"\"Do it w/ the right shape: noisy and time-cosuming\"\"\"\r\n",
    "\r\n",
    "def f_b_r(x,y,l1,l2):\r\n",
    "    x = x.reshape((28*28,-1)) # (784, bs)\r\n",
    "    f_l1 = l1.T @ x # (128, bs)\r\n",
    "    f_re = np.maximum(f_l1,0)\r\n",
    "    f_l2 = l2.T @ f_re # (10,bs)\r\n",
    "    \r\n",
    "    out = np.zeros((10,len(y))) # (10,bs)\r\n",
    "    out[y,range(len(y))] = 1 # done\r\n",
    "\r\n",
    "    # CE loss from pytorch: loss(x,class) = -x[class] + log(exp(x[j]).sum(), j belongs to class)\r\n",
    "    # scalar\r\n",
    "    \"\"\"stability hack works but it's noisy\"\"\"\r\n",
    "    #loce = -f_l2 + np.log(np.exp(f_l2-f_l2.max()).sum(axis=0))\r\n",
    "    loce = -f_l2 + np.log(np.exp(f_l2).sum(axis=0)) # (10,bs)\r\n",
    "\r\n",
    "    loss = (out*loce).mean(axis=0) # (bs,)\r\n",
    "\r\n",
    "    \"\"\"weird '-loce' right there; due to chain rule, 97 in engineering maths means nothing\"\"\"\r\n",
    "    grad = (-out.T/10 + (np.exp(-loce)*out.mean(axis=0)).T).T\r\n",
    "    \r\n",
    "    d_l2 = grad @ (f_re.T)\r\n",
    "    d_l1 = ((f_re > 0).astype(np.float32)*(l2 @ grad)) @ (x.T)\r\n",
    "\r\n",
    "    return loss, d_l1.T, d_l2.T\r\n",
    "\r\n",
    "\r\n",
    "np.random.seed(1337)\r\n",
    "\r\n",
    "l1 = layer_init(784,128)\r\n",
    "l2 = layer_init(128,10)\r\n",
    "\r\n",
    "bs = 1 # crappy for bs > 1\r\n",
    "lr = 1e-4\r\n",
    "loss, d_l1, d_l2 = f_b_r(x_train[0:bs],y_train[0:bs],l1,l2)\r\n",
    "losses = []\r\n",
    "start = time.time()\r\n",
    "for _ in tqdm(range(4000)):\r\n",
    "    samp = np.random.randint(0,x_train.shape[0]-bs,size=(bs))\r\n",
    "    loss, d_l1, d_l2 = f_b_r(x_train[samp],y_train[samp],l1,l2)\r\n",
    "    l1 -= lr*d_l1\r\n",
    "    l2 -= lr*d_l2\r\n",
    "    losses.append(loss.mean())\r\n",
    "end = time.time()\r\n",
    "print(\"time consumption: %.3f\"%(end-start))"
   ],
   "outputs": [
    {
     "output_type": "stream",
     "name": "stderr",
     "text": [
      "100%|██████████| 4000/4000 [00:05<00:00, 772.50it/s]"
     ]
    },
    {
     "output_type": "stream",
     "name": "stdout",
     "text": [
      "time consumption: 5.180\n"
     ]
    },
    {
     "output_type": "stream",
     "name": "stderr",
     "text": [
      "\n"
     ]
    }
   ],
   "metadata": {}
  },
  {
   "cell_type": "code",
   "execution_count": 10,
   "source": [
    "plt.plot(losses)\r\n",
    "losses[-1]"
   ],
   "outputs": [
    {
     "output_type": "execute_result",
     "data": {
      "text/plain": [
       "0.022687816619873048"
      ]
     },
     "metadata": {},
     "execution_count": 10
    },
    {
     "output_type": "display_data",
     "data": {
      "image/png": "[encoded data removed]",
      "text/plain": [
       "<Figure size 432x288 with 1 Axes>"
      ]
     },
     "metadata": {
      "needs_background": "light"
     }
    }
   ],
   "metadata": {}
  },
  {
   "cell_type": "code",
   "execution_count": 11,
   "source": [
    "print(\"right shape \",end=\"\")\r\n",
    "evalu(l1,l2)"
   ],
   "outputs": [
    {
     "output_type": "stream",
     "name": "stderr",
     "text": [
      "100%|██████████| 1000/1000 [00:00<00:00, 15627.88it/s]"
     ]
    },
    {
     "output_type": "stream",
     "name": "stdout",
     "text": [
      "right shape accuracies: 0.90\n"
     ]
    },
    {
     "output_type": "stream",
     "name": "stderr",
     "text": [
      "\n"
     ]
    }
   ],
   "metadata": {}
  },
  {
   "cell_type": "code",
   "execution_count": null,
   "source": [],
   "outputs": [],
   "metadata": {}
  }
 ],
 "metadata": {
  "orig_nbformat": 4,
  "language_info": {
   "name": "python",
   "version": "3.8.8",
   "mimetype": "text/x-python",
   "codemirror_mode": {
    "name": "ipython",
    "version": 3
   },
   "pygments_lexer": "ipython3",
   "nbconvert_exporter": "python",
   "file_extension": ".py"
  },
  "kernelspec": {
   "name": "python3",
   "display_name": "Python 3.8.8 64-bit ('Kelvin': virtualenv)"
  },
  "interpreter": {
   "hash": "fdb5c6f5eaa2a17ed3afdcccdfa066a85023e220ece0c7237533a765dc216f79"
  }
 },
 "nbformat": 4,
 "nbformat_minor": 2
}